{
  "nbformat": 4,
  "nbformat_minor": 0,
  "metadata": {
    "colab": {
      "provenance": [],
      "authorship_tag": "ABX9TyP+RdrBAb6hmfXQe/yS2lVU",
      "include_colab_link": true
    },
    "kernelspec": {
      "name": "python3",
      "display_name": "Python 3"
    },
    "language_info": {
      "name": "python"
    }
  },
  "cells": [
    {
      "cell_type": "markdown",
      "metadata": {
        "id": "view-in-github",
        "colab_type": "text"
      },
      "source": [
        "<a href=\"https://colab.research.google.com/github/Thangavasanth07/thanga/blob/main/app_py.ipynb\" target=\"_parent\"><img src=\"https://colab.research.google.com/assets/colab-badge.svg\" alt=\"Open In Colab\"/></a>"
      ]
    },
    {
      "cell_type": "code",
      "source": [
        "import streamlit as st\n",
        "import joblib\n",
        "import pandas as pd\n",
        "\n",
        "# Load the trained model\n",
        "model = joblib.load('logistic_regression_model.pkl')\n",
        "\n",
        "# Streamlit app title\n",
        "st.title(\"Titanic Survival Prediction\")\n",
        "\n",
        "# Collect user inputs for prediction\n",
        "age = st.number_input('Age', min_value=1, max_value=100, value=25)\n",
        "pclass = st.selectbox('Pclass', [1, 2, 3])\n",
        "sex = st.selectbox('Sex', ['male', 'female'])\n",
        "sibsp = st.number_input('SibSp', min_value=0, max_value=10, value=0)\n",
        "parch = st.number_input('Parch', min_value=0, max_value=10, value=0)\n",
        "fare = st.number_input('Fare', min_value=0, max_value=500, value=10)\n",
        "embarked = st.selectbox('Embarked', ['C', 'Q', 'S'])\n",
        "\n",
        "# Prepare the input data as a DataFrame\n",
        "input_data = pd.DataFrame({\n",
        "    'Age': [age],\n",
        "    'Pclass': [pclass],\n",
        "    'Sex_male': [1 if sex == 'male' else 0],\n",
        "    'SibSp': [sibsp],\n",
        "    'Parch': [parch],\n",
        "    'Fare': [fare],\n",
        "    'Embarked_C': [1 if embarked == 'C' else 0],\n",
        "    'Embarked_Q': [1 if embarked == 'Q' else 0],\n",
        "    'Embarked_S': [1 if embarked == 'S' else 0]\n",
        "})\n",
        "\n",
        "# Make a prediction\n",
        "prediction = model.predict(input_data)\n",
        "st.write(\"Survival Prediction: \", \"Survived\" if prediction[0] == 1 else \"Not Survived\")\n",
        "\"\"\"\n",
        "\n",
        "# Save the app.py content to a file\n",
        "with open(\"app.py\", \"w\") as f:\n",
        "    f.write(app_code)\n",
        "\n",
        "# Verify the file has been created\n",
        "!cat app.py\n"
      ],
      "metadata": {
        "id": "3yXv2_ehC82g"
      },
      "execution_count": null,
      "outputs": []
    }
  ]
}